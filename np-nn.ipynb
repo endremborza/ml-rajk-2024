{
 "cells": [
  {
   "cell_type": "code",
   "execution_count": 1,
   "metadata": {
    "_cell_guid": "b1076dfc-b9ad-4769-8c92-a6c4dae69d19",
    "_uuid": "8f2839f25d086af736a60e9eeb907d3b93b6e0e5"
   },
   "outputs": [],
   "source": [
    "import gzip\n",
    "\n",
    "import matplotlib.pyplot as plt\n",
    "import numpy as np\n",
    "import requests\n",
    "from tqdm.notebook import tqdm"
   ]
  },
  {
   "cell_type": "code",
   "execution_count": 2,
   "metadata": {},
   "outputs": [],
   "source": [
    "# http://yann.lecun.com/exdb/mnist/"
   ]
  },
  {
   "cell_type": "code",
   "execution_count": 3,
   "metadata": {},
   "outputs": [],
   "source": [
    "imgs = requests.get(\"http://yann.lecun.com/exdb/mnist/train-images-idx3-ubyte.gz\")\n",
    "labels = requests.get(\"http://yann.lecun.com/exdb/mnist/train-labels-idx1-ubyte.gz\")"
   ]
  },
  {
   "cell_type": "code",
   "execution_count": 4,
   "metadata": {},
   "outputs": [],
   "source": [
    "buf = gzip.decompress(imgs.content)"
   ]
  },
  {
   "cell_type": "code",
   "execution_count": 5,
   "metadata": {},
   "outputs": [
    {
     "data": {
      "text/plain": [
       "array([  50855936, 1625948160,  469762048,  469762048], dtype=int32)"
      ]
     },
     "execution_count": 5,
     "metadata": {},
     "output_type": "execute_result"
    }
   ],
   "source": [
    "prefix_size = int(32 / 8) * 4\n",
    "np.frombuffer(buf[0:prefix_size], dtype=np.int32) # ???"
   ]
  },
  {
   "cell_type": "code",
   "execution_count": 6,
   "metadata": {},
   "outputs": [],
   "source": [
    "img_pixels = np.frombuffer(buf[prefix_size:], dtype=np.uint8).reshape(60_000, -1)"
   ]
  },
  {
   "cell_type": "code",
   "execution_count": 7,
   "metadata": {},
   "outputs": [],
   "source": [
    "img_labels = np.frombuffer(gzip.decompress(labels.content)[8:], dtype=np.uint8)"
   ]
  },
  {
   "cell_type": "code",
   "execution_count": 8,
   "metadata": {},
   "outputs": [],
   "source": [
    "K = np.unique(img_labels).shape[0]"
   ]
  },
  {
   "cell_type": "code",
   "execution_count": 9,
   "metadata": {},
   "outputs": [
    {
     "data": {
      "image/png": "[encoded data removed]",
      "text/plain": [
       "<Figure size 800x800 with 9 Axes>"
      ]
     },
     "metadata": {},
     "output_type": "display_data"
    }
   ],
   "source": [
    "rng = np.random.RandomState(742)\n",
    "fig, axes = plt.subplots(3, 3, figsize=(8, 8))\n",
    "axes = axes.flatten()\n",
    "idx = rng.randint(0, img_labels.shape[0], size=9)\n",
    "for i in range(9):\n",
    "    axes[i].imshow(img_pixels[idx[i], :].reshape(28, 28), cmap=\"gray\")\n",
    "    axes[i].axis(\"off\")\n",
    "    axes[i].set_title(str(int(img_labels[idx[i]])), color=\"black\", fontsize=12)\n",
    "plt.show()"
   ]
  },
  {
   "cell_type": "code",
   "execution_count": 10,
   "metadata": {},
   "outputs": [],
   "source": [
    "def relu(x):\n",
    "    return np.where(x > 0, x, 0)"
   ]
  },
  {
   "cell_type": "code",
   "execution_count": 11,
   "metadata": {},
   "outputs": [],
   "source": [
    "def forward(X, W, b):\n",
    "    inner1 = relu(np.matmul(X, W[0]) + b[0])\n",
    "    return softmax(inner1, W[1]), inner1"
   ]
  },
  {
   "cell_type": "code",
   "execution_count": 12,
   "metadata": {},
   "outputs": [],
   "source": [
    "def softmax(X_in, weights):\n",
    "    mul = np.matmul(X_in, weights)\n",
    "    s = np.exp(np.where(mul < 2, mul, 2))\n",
    "    return s / np.sum(s, axis=1).reshape(-1, 1)"
   ]
  },
  {
   "cell_type": "code",
   "execution_count": 13,
   "metadata": {},
   "outputs": [],
   "source": [
    "def loss(y_pred, y_true):\n",
    "    y_true_one_hot_vec = y_true[:, np.newaxis] == np.arange(K)\n",
    "    loss_sample = (np.log(np.where(y_pred > 0, y_pred, 1e-4)) * y_true_one_hot_vec).sum(\n",
    "        axis=1\n",
    "    )\n",
    "    return -np.mean(loss_sample), y_true_one_hot_vec"
   ]
  },
  {
   "cell_type": "code",
   "execution_count": 14,
   "metadata": {},
   "outputs": [],
   "source": [
    "def backprop(W, b, X, y, alpha):\n",
    "\n",
    "    out, inner1 = forward(X, W, b)\n",
    "    _, y_one_hot = loss(out, y)\n",
    "    delta2 = out - y_one_hot\n",
    "    grad_W1 = np.matmul(inner1.T, delta2)\n",
    "    delta1 = np.matmul(delta2, W[1].T) * (inner1 > 0)\n",
    "    grad_W0 = np.matmul(X.T, delta1)\n",
    "    N = X.shape[0]\n",
    "    dW = [grad_W0 / N + alpha * W[0], grad_W1 / N + alpha * W[1]]\n",
    "    db = [np.mean(delta1, axis=0)]\n",
    "    return dW, db"
   ]
  },
  {
   "cell_type": "code",
   "execution_count": 15,
   "metadata": {},
   "outputs": [
    {
     "data": {
      "application/vnd.jupyter.widget-view+json": {
       "model_id": "865f56c5f0814ff2b35b6422c29479eb",
       "version_major": 2,
       "version_minor": 0
      },
      "text/plain": [
       "  0%|          | 0/1000 [00:00<?, ?it/s]"
      ]
     },
     "metadata": {},
     "output_type": "display_data"
    },
    {
     "name": "stdout",
     "output_type": "stream",
     "text": [
      "train loss at 1: 5.452 train accuracy: 9.85%\n",
      "train loss at 51: 2.303 train accuracy: 9.85%\n",
      "train loss at 101: 2.302 train accuracy: 9.86%\n",
      "train loss at 151: 2.302 train accuracy: 9.86%\n",
      "train loss at 201: 2.302 train accuracy: 9.86%\n",
      "train loss at 251: 2.302 train accuracy: 9.86%\n",
      "train loss at 301: 2.302 train accuracy: 9.86%\n",
      "train loss at 351: 2.302 train accuracy: 9.86%\n",
      "train loss at 401: 2.302 train accuracy: 9.86%\n",
      "train loss at 451: 2.302 train accuracy: 9.86%\n",
      "train loss at 501: 2.302 train accuracy: 9.86%\n",
      "train loss at 551: 2.302 train accuracy: 9.86%\n",
      "train loss at 601: 2.302 train accuracy: 9.86%\n",
      "train loss at 651: 2.302 train accuracy: 9.86%\n",
      "train loss at 701: 2.302 train accuracy: 9.86%\n",
      "train loss at 751: 2.302 train accuracy: 9.86%\n",
      "train loss at 801: 2.302 train accuracy: 9.86%\n",
      "train loss at 851: 2.302 train accuracy: 9.86%\n",
      "train loss at 901: 2.302 train accuracy: 9.86%\n",
      "train loss at 951: 2.302 train accuracy: 9.86%\n"
     ]
    }
   ],
   "source": [
    "alpha = 1e-6\n",
    "num_iter = 1000\n",
    "n_H = 256\n",
    "n = img_pixels.shape[1]\n",
    "\n",
    "rng = np.random.RandomState(742)\n",
    "W = [1e-1 * rng.rand(n, n_H), 1e-1 * rng.rand(n_H, K)]\n",
    "b = [rng.rand(n_H)]\n",
    "\n",
    "train_inds = rng.choice(range(img_pixels.shape[0]), 50_000, replace=False)\n",
    "\n",
    "X_train = img_pixels[train_inds, :].astype(np.float64)\n",
    "y_train = img_labels[train_inds].astype(np.float64)\n",
    "\n",
    "\n",
    "for i in tqdm(range(num_iter)):\n",
    "    dW, db = backprop(W, b, X_train, y_train, alpha)\n",
    "    W[0] -= dW[0]\n",
    "    W[1] -= dW[1]\n",
    "    b[0] -= db[0]\n",
    "\n",
    "    if i % 50 == 0:\n",
    "        y_pred, _ = forward(X_train, W, b)\n",
    "        ce, _ = loss(y_pred, y_train)\n",
    "        acc = np.mean(np.argmax(y_pred, axis=1) == y_train)\n",
    "        print(\n",
    "            f\"train loss at {i + 1}: {round(ce, 3)} train accuracy: {round(acc * 100, 2)}%\"\n",
    "        )"
   ]
  },
  {
   "cell_type": "code",
   "execution_count": 16,
   "metadata": {},
   "outputs": [
    {
     "data": {
      "application/vnd.jupyter.widget-view+json": {
       "model_id": "a0c6c43517ee47c1ae9fbe4f01603fad",
       "version_major": 2,
       "version_minor": 0
      },
      "text/plain": [
       "  0%|          | 0/1000 [00:00<?, ?it/s]"
      ]
     },
     "metadata": {},
     "output_type": "display_data"
    },
    {
     "name": "stdout",
     "output_type": "stream",
     "text": [
      "train loss at 1: 12.83 train accuracy: 9.85%\n",
      "train loss at 51: 1.876 train accuracy: 27.19%\n",
      "train loss at 101: 1.588 train accuracy: 30.91%\n",
      "train loss at 151: 1.54 train accuracy: 31.81%\n",
      "train loss at 201: 1.552 train accuracy: 32.26%\n",
      "train loss at 251: 1.501 train accuracy: 32.57%\n",
      "train loss at 301: 1.533 train accuracy: 32.84%\n",
      "train loss at 351: 1.497 train accuracy: 33.03%\n",
      "train loss at 401: 1.5 train accuracy: 33.2%\n",
      "train loss at 451: 1.491 train accuracy: 33.31%\n",
      "train loss at 501: 1.477 train accuracy: 33.45%\n",
      "train loss at 551: 1.474 train accuracy: 33.57%\n",
      "train loss at 601: 1.472 train accuracy: 33.66%\n",
      "train loss at 651: 1.47 train accuracy: 33.73%\n",
      "train loss at 701: 1.468 train accuracy: 33.82%\n",
      "train loss at 751: 1.466 train accuracy: 33.89%\n",
      "train loss at 801: 1.465 train accuracy: 33.94%\n",
      "train loss at 851: 1.463 train accuracy: 33.99%\n",
      "train loss at 901: 1.462 train accuracy: 34.03%\n",
      "train loss at 951: 1.461 train accuracy: 34.05%\n"
     ]
    }
   ],
   "source": [
    "eta = 5e-1\n",
    "gamma = 0.99\n",
    "eps = 1e-3\n",
    "\n",
    "rng = np.random.RandomState(742)\n",
    "W = [1e-1 * rng.rand(n, n_H), 1e-1 * rng.rand(n_H, K)]\n",
    "b = [rng.rand(n_H)]\n",
    "\n",
    "gW0 = gW1 = gb0 = 1\n",
    "\n",
    "for i in tqdm(range(num_iter)):\n",
    "    dW, db = backprop(W, b, X_train, y_train, alpha)\n",
    "    gW0 = gamma * gW0 + (1 - gamma) * np.sum(dW[0] ** 2)\n",
    "    etaW0 = eta / np.sqrt(gW0 + eps)\n",
    "    W[0] -= dW[0]  * etaW0\n",
    "\n",
    "    gW1 = gamma * gW1 + (1 - gamma) * np.sum(dW[1] ** 2)\n",
    "    etaW1 = eta / np.sqrt(gW1 + eps)\n",
    "    W[1] -= dW[1] * etaW1\n",
    "\n",
    "    gb0 = gamma * gb0 + (1 - gamma) * np.sum(db[0] ** 2)\n",
    "    etab0 = eta / np.sqrt(gb0 + eps)\n",
    "    b[0] -= db[0] * etab0 \n",
    "\n",
    "    if i % 50 == 0:\n",
    "        y_pred, _ = forward(X_train, W, b)\n",
    "        ce, _ = loss(y_pred, y_train)\n",
    "        acc = np.mean(np.argmax(y_pred, axis=1) == y_train)\n",
    "        print(\n",
    "            f\"train loss at {i + 1}: {round(ce, 3)} train accuracy: {round(acc * 100, 2)}%\"\n",
    "        )\n",
    "        gW0 = gW1 = gb0 = 1"
   ]
  }
 ],
 "metadata": {
  "kernelspec": {
   "display_name": "Python 3 (ipykernel)",
   "language": "python",
   "name": "python3"
  },
  "language_info": {
   "codemirror_mode": {
    "name": "ipython",
    "version": 3
   },
   "file_extension": ".py",
   "mimetype": "text/x-python",
   "name": "python",
   "nbconvert_exporter": "python",
   "pygments_lexer": "ipython3",
   "version": "3.10.12"
  }
 },
 "nbformat": 4,
 "nbformat_minor": 4
}
