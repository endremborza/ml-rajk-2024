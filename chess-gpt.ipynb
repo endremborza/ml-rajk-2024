{
 "cells": [
  {
   "cell_type": "code",
   "execution_count": 1,
   "id": "a8ba3963-fc7b-499e-aebd-23b5c46d0c3b",
   "metadata": {},
   "outputs": [],
   "source": [
    "from pathlib import Path\n",
    "\n",
    "import torch\n",
    "import torch.nn as nn\n",
    "from torch.nn import functional as F"
   ]
  },
  {
   "cell_type": "code",
   "execution_count": 2,
   "id": "f36037c4-18af-4fee-9f33-21246255640d",
   "metadata": {},
   "outputs": [],
   "source": [
    "moves_str = Path(\"../moves.txt\").read_text()"
   ]
  },
  {
   "cell_type": "code",
   "execution_count": 90,
   "id": "ccde0b0a-f3bb-478f-b25b-230268ac208a",
   "metadata": {},
   "outputs": [
    {
     "data": {
      "text/plain": [
       "'1 e4 d5 2 exd5 Qxd5 3 Nc3 Qd8 4 d4 Nf6 5 Be3 e6 6 Nf3 Nc6 7 P@e5 Bb4 8 exf6 Qxf6 9 N@e4 Qd8 10 Bd2 O-O 11 Nb5 Bxd2+ 12 Qxd2 h6 13 Be2 a6 14 O-O-O axb5 15 B@c5 Rxa2 16 Bxf8 Qxf8 17 b3 B@a3+ 18 Kb1 Rb2+ 19 Ka1 Nb4 20 Rb1 Nxc2+ 21 Qxc2 Rxc2 0-1'"
      ]
     },
     "execution_count": 90,
     "metadata": {},
     "output_type": "execute_result"
    }
   ],
   "source": [
    "next(filter(lambda s: \"@\" in s,moves_str.split(\"\\n\")))"
   ]
  },
  {
   "cell_type": "code",
   "execution_count": 3,
   "id": "3f369ca5-abce-4e13-a5ed-4863193d1926",
   "metadata": {},
   "outputs": [
    {
     "name": "stdout",
     "output_type": "stream",
     "text": [
      "1 g3 d5 2 Bg2 e6 3 Nc3 f5 4 d4 Bd6 5 e4 Nf6 6 exd5 Nc6 7 dxc6 Bd7 8 Qe2 Bxc6 9 d5 Qd7 10 dxc6 Qxc6 11 Bxc6+ bxc6 12 Qxe6+ Kf8 13 Bg5 Be7 14 Nf3 h6 15 Ne5 Nd5 16 Qf7# 1-0\n",
      "1 Nf3 Nf6 2 e4 Nxe4 3 c3 Nf6 4 Bc4 d6 5 Bxf7+ Kxf7 6 Qb3+ Ke8 7 Ng5 e6 8 Nxe6 Kf7 9 Ng5+ Ke8 10 Qf7# 1-0\n",
      "1 e4 Nf6 2 Nf3 e6 3 e5 Be7 4 exf6 O-O 5 Be2 Qe8 6 O-O Bxf6 7 d4 Be5 8 c3 Bxh2+ 9 Kxh2 d6 10 Kg1 f6 11 d5 Qh5 12 dxe6 Qh1+ 13 Kxh1 Bxe6 14 Nd4 Bf7 15 Nf5 h6 16 Ne7+ Kh8 17 Bd3 Bg6 18 Bc2 Bh7 19 Bxh7 Kxh7 0-1\n",
      "1 d4 Nf6 2 e3 Ne4 \n"
     ]
    }
   ],
   "source": [
    "print(moves_str[:500])"
   ]
  },
  {
   "cell_type": "code",
   "execution_count": 4,
   "id": "19a9a901-c966-424a-a402-59363e14d9dd",
   "metadata": {},
   "outputs": [],
   "source": [
    "block_size = 350"
   ]
  },
  {
   "cell_type": "code",
   "execution_count": 5,
   "id": "27b5a805-24fc-455d-866b-5fb3ce441d29",
   "metadata": {},
   "outputs": [],
   "source": [
    "padded_moves = \"\"\n",
    "for moves in moves_str.split(\"\\n\"):\n",
    "    padded_moves += moves + (block_size - len(moves)) * \" \""
   ]
  },
  {
   "cell_type": "code",
   "execution_count": 7,
   "id": "48226c29-2bdf-463a-b4fb-1b667d8626d5",
   "metadata": {},
   "outputs": [
    {
     "data": {
      "text/plain": [
       "1000274"
      ]
     },
     "execution_count": 7,
     "metadata": {},
     "output_type": "execute_result"
    }
   ],
   "source": [
    "len(padded_moves) // block_size"
   ]
  },
  {
   "cell_type": "code",
   "execution_count": 51,
   "id": "bf01b5b4-d778-435d-8a8b-fe12e4fb0cc6",
   "metadata": {},
   "outputs": [],
   "source": [
    "batch_size = 64  # how many independent sequences will we process in parallel?\n",
    "max_iters = 5000\n",
    "eval_interval = 500\n",
    "learning_rate = 3e-4\n",
    "device = \"cuda\" if torch.cuda.is_available() else \"cpu\"\n",
    "eval_iters = 200\n",
    "n_head = 6\n",
    "n_embd = n_head * 32  # 64\n",
    "n_layer = 3\n",
    "dropout = 0.2"
   ]
  },
  {
   "cell_type": "code",
   "execution_count": 10,
   "id": "9921369c-a4b9-4f29-9b93-6a110a24fe32",
   "metadata": {},
   "outputs": [],
   "source": [
    "torch.manual_seed(742)\n",
    "\n",
    "# here are all the unique characters that occur in this text\n",
    "chars = sorted(list(set(padded_moves)))\n",
    "vocab_size = len(chars)\n",
    "# create a mapping from characters to integers\n",
    "stoi = {ch: i for i, ch in enumerate(chars)}\n",
    "itos = {i: ch for i, ch in enumerate(chars)}\n",
    "encode = lambda s: [\n",
    "    stoi[c] for c in s\n",
    "]  # encoder: take a string, output a list of integers\n",
    "decode = lambda l: \"\".join(\n",
    "    [itos[i] for i in l]\n",
    ")  # decoder: take a list of integers, output a string"
   ]
  },
  {
   "cell_type": "code",
   "execution_count": 89,
   "id": "965f62b0-a75d-4367-8231-818a40a4b896",
   "metadata": {},
   "outputs": [
    {
     "data": {
      "text/plain": [
       "{' ': 0,\n",
       " '#': 1,\n",
       " '+': 2,\n",
       " '-': 3,\n",
       " '/': 4,\n",
       " '0': 5,\n",
       " '1': 6,\n",
       " '2': 7,\n",
       " '3': 8,\n",
       " '4': 9,\n",
       " '5': 10,\n",
       " '6': 11,\n",
       " '7': 12,\n",
       " '8': 13,\n",
       " '9': 14,\n",
       " '=': 15,\n",
       " '@': 16,\n",
       " 'B': 17,\n",
       " 'K': 18,\n",
       " 'N': 19,\n",
       " 'O': 20,\n",
       " 'P': 21,\n",
       " 'Q': 22,\n",
       " 'R': 23,\n",
       " 'a': 24,\n",
       " 'b': 25,\n",
       " 'c': 26,\n",
       " 'd': 27,\n",
       " 'e': 28,\n",
       " 'f': 29,\n",
       " 'g': 30,\n",
       " 'h': 31,\n",
       " 'x': 32}"
      ]
     },
     "execution_count": 89,
     "metadata": {},
     "output_type": "execute_result"
    }
   ],
   "source": [
    "stoi"
   ]
  },
  {
   "cell_type": "code",
   "execution_count": 13,
   "id": "b20508b0-e21a-4ce8-88a5-fb316703f3be",
   "metadata": {},
   "outputs": [],
   "source": [
    "# Train and test splits\n",
    "data = torch.tensor(encode(padded_moves), dtype=torch.long)\n",
    "n = int(0.9 * (len(data) //block_size)) * block_size  # first 90% will be train, rest val\n",
    "train_data = data[:n]\n",
    "val_data = data[n:]"
   ]
  },
  {
   "cell_type": "code",
   "execution_count": 17,
   "id": "636cfc2f-f311-4177-ba52-7abb8981eefc",
   "metadata": {},
   "outputs": [],
   "source": [
    "# data loading\n",
    "def get_batch(split):\n",
    "    # generate a small batch of data of inputs x and targets y\n",
    "    data = train_data if split == \"train\" else val_data\n",
    "    ix = torch.randint(len(data) // block_size - 1, (batch_size,)) * block_size\n",
    "    x = torch.stack([data[i : i + block_size] for i in ix])\n",
    "    y = torch.stack([data[i + 1 : i + block_size + 1] for i in ix])\n",
    "    x, y = x.to(device), y.to(device)\n",
    "    return x, y"
   ]
  },
  {
   "cell_type": "code",
   "execution_count": 18,
   "id": "b44a780f-83fb-4dc7-8078-22facb14b4f0",
   "metadata": {},
   "outputs": [],
   "source": [
    "@torch.no_grad()\n",
    "def estimate_loss():\n",
    "    out = {}\n",
    "    model.eval()\n",
    "    for split in [\"train\", \"val\"]:\n",
    "        losses = torch.zeros(eval_iters)\n",
    "        for k in range(eval_iters):\n",
    "            X, Y = get_batch(split)\n",
    "            _, loss = model(X, Y)\n",
    "            losses[k] = loss.item()\n",
    "        out[split] = losses.mean()\n",
    "    model.train()\n",
    "    return out"
   ]
  },
  {
   "cell_type": "code",
   "execution_count": 19,
   "id": "3f693456-d1d0-4301-87c3-f54911f6915a",
   "metadata": {},
   "outputs": [],
   "source": [
    "class Head(nn.Module):\n",
    "    \"\"\"one head of self-attention\"\"\"\n",
    "\n",
    "    def __init__(self, head_size):\n",
    "        super().__init__()\n",
    "        self.key = nn.Linear(n_embd, head_size, bias=False)\n",
    "        self.query = nn.Linear(n_embd, head_size, bias=False)\n",
    "        self.value = nn.Linear(n_embd, head_size, bias=False)\n",
    "        \n",
    "        self.register_buffer(\"tril\", torch.tril(torch.ones(block_size, block_size)))\n",
    "        self.dropout = nn.Dropout(dropout)\n",
    "\n",
    "    def forward(self, x):\n",
    "        # input of size (batch, time-step, channels)\n",
    "        # output of size (batch, time-step, head size)\n",
    "        B, T, C = x.shape\n",
    "        k = self.key(x)  # (B,T,hs)\n",
    "        q = self.query(x)  # (B,T,hs)\n",
    "        v = self.value(x)  # (B,T,hs)\n",
    "        # compute attention scores (\"affinities\")\n",
    "        wei = (\n",
    "            q @ k.transpose(-2, -1) * k.shape[-1] ** -0.5\n",
    "        )  # (B, T, hs) @ (B, hs, T) -> (B, T, T)\n",
    "        wei = wei.masked_fill(self.tril[:T, :T] == 0, float(\"-inf\"))  # (B, T, T)\n",
    "        \n",
    "        wei = F.softmax(wei, dim=-1)  # (B, T, T)\n",
    "        wei = self.dropout(wei)\n",
    "        # perform the weighted aggregation of the values\n",
    "        \n",
    "        out = wei @ v  # (B, T, T) @ (B, T, hs) -> (B, T, hs)        \n",
    "        return out"
   ]
  },
  {
   "cell_type": "code",
   "execution_count": 20,
   "id": "f4dd77f7-9c69-4065-b3fe-3e4a3c2692e1",
   "metadata": {},
   "outputs": [],
   "source": [
    "class MultiHeadAttention(nn.Module):\n",
    "    \"\"\"multiple heads of self-attention in parallel\"\"\"\n",
    "\n",
    "    def __init__(self, num_heads, head_size):\n",
    "        super().__init__()\n",
    "        self.heads = nn.ModuleList([Head(head_size) for _ in range(num_heads)])\n",
    "        self.proj = nn.Linear(head_size * num_heads, n_embd)\n",
    "        self.dropout = nn.Dropout(dropout)\n",
    "\n",
    "    def forward(self, x):\n",
    "        out = torch.cat([h(x) for h in self.heads], dim=-1)\n",
    "        out = self.dropout(self.proj(out))\n",
    "        return out"
   ]
  },
  {
   "cell_type": "code",
   "execution_count": 21,
   "id": "53471019-2e18-4566-b4c5-36fde415a045",
   "metadata": {},
   "outputs": [],
   "source": [
    "class FeedFoward(nn.Module):\n",
    "    \"\"\"a simple linear layer followed by a non-linearity\"\"\"\n",
    "\n",
    "    def __init__(self, n_embd):\n",
    "        super().__init__()\n",
    "        self.net = nn.Sequential(\n",
    "            nn.Linear(n_embd, 4 * n_embd),\n",
    "            nn.ReLU(),\n",
    "            nn.Linear(4 * n_embd, n_embd),\n",
    "            nn.Dropout(dropout),\n",
    "        )\n",
    "\n",
    "    def forward(self, x):\n",
    "        return self.net(x)"
   ]
  },
  {
   "cell_type": "code",
   "execution_count": 22,
   "id": "9e8984e7-6d30-422b-b418-07d3d342eeb7",
   "metadata": {},
   "outputs": [],
   "source": [
    "class Block(nn.Module):\n",
    "    \"\"\"Transformer block: communication followed by computation\"\"\"\n",
    "\n",
    "    def __init__(self, n_embd, n_head):\n",
    "        # n_embd: embedding dimension, n_head: the number of heads we'd like\n",
    "        super().__init__()\n",
    "        head_size = n_embd // n_head\n",
    "        self.sa = MultiHeadAttention(n_head, head_size)\n",
    "        self.ffwd = FeedFoward(n_embd)\n",
    "        self.ln1 = nn.LayerNorm(n_embd)\n",
    "        self.ln2 = nn.LayerNorm(n_embd)\n",
    "\n",
    "    def forward(self, x):\n",
    "        x = x + self.sa(self.ln1(x))\n",
    "        x = x + self.ffwd(self.ln2(x))\n",
    "        return x"
   ]
  },
  {
   "cell_type": "code",
   "execution_count": 23,
   "id": "f6e72c38-cb4b-4213-ac58-6c8233bad9fd",
   "metadata": {},
   "outputs": [],
   "source": [
    "class ChessGPT(nn.Module):\n",
    "    def __init__(self):\n",
    "        super().__init__()\n",
    "        # each token directly reads off the logits for the next token from a lookup table\n",
    "        self.token_embedding_table = nn.Embedding(vocab_size, n_embd)\n",
    "        self.position_embedding_table = nn.Embedding(block_size, n_embd)\n",
    "        self.blocks = nn.Sequential(\n",
    "            *[Block(n_embd, n_head=n_head) for _ in range(n_layer)]\n",
    "        )\n",
    "        self.ln_f = nn.LayerNorm(n_embd)  # final layer norm\n",
    "        self.lm_head = nn.Linear(n_embd, vocab_size)\n",
    "\n",
    "        # better init, not covered in the original GPT video, but important, will cover in followup video\n",
    "        self.apply(self._init_weights)\n",
    "\n",
    "    def _init_weights(self, module):\n",
    "        if isinstance(module, nn.Linear):\n",
    "            torch.nn.init.normal_(module.weight, mean=0.0, std=0.02)\n",
    "            if module.bias is not None:\n",
    "                torch.nn.init.zeros_(module.bias)\n",
    "        elif isinstance(module, nn.Embedding):\n",
    "            torch.nn.init.normal_(module.weight, mean=0.0, std=0.02)\n",
    "\n",
    "    def forward(self, idx, targets=None):\n",
    "        B, T = idx.shape\n",
    "\n",
    "        # idx and targets are both (B,T) tensor of integers\n",
    "        tok_emb = self.token_embedding_table(idx)  # (B,T,C)\n",
    "        pos_emb = self.position_embedding_table(torch.arange(T, device=device))  # (T,C)\n",
    "        x = tok_emb + pos_emb  # (B,T,C)\n",
    "        x = self.blocks(x)  # (B,T,C)\n",
    "        x = self.ln_f(x)  # (B,T,C)\n",
    "        logits = self.lm_head(x)  # (B,T,vocab_size)\n",
    "\n",
    "        if targets is None:\n",
    "            loss = None\n",
    "        else:\n",
    "            B, T, C = logits.shape\n",
    "            logits = logits.view(B * T, C)\n",
    "            targets = targets.view(B * T)\n",
    "            loss = F.cross_entropy(logits, targets)\n",
    "\n",
    "        return logits, loss\n",
    "\n",
    "    def generate(self, idx, max_new_tokens):\n",
    "        # idx is (B, T) array of indices in the current context\n",
    "        for _ in range(max_new_tokens):\n",
    "            # crop idx to the last block_size tokens\n",
    "            idx_cond = idx[:, -block_size:]\n",
    "            # get the predictions\n",
    "            logits, _ = self(idx_cond)\n",
    "            # focus only on the last time step\n",
    "            logits = logits[:, -1, :]  # becomes (B, C)\n",
    "            # apply softmax to get probabilities\n",
    "            probs = F.softmax(logits, dim=-1)  # (B, C)\n",
    "            # sample from the distribution\n",
    "            idx_next = torch.multinomial(probs, num_samples=1)  # (B, 1)\n",
    "            # append sampled index to the running sequence\n",
    "            idx = torch.cat((idx, idx_next), dim=1)  # (B, T+1)\n",
    "        return idx"
   ]
  },
  {
   "cell_type": "code",
   "execution_count": 30,
   "id": "981abf4a-611c-4967-a904-559ba5039a60",
   "metadata": {},
   "outputs": [
    {
     "name": "stdout",
     "output_type": "stream",
     "text": [
      "1.413153 M parameters\n"
     ]
    }
   ],
   "source": [
    "model = ChessGPT()\n",
    "m = model.to(device)\n",
    "print(sum(p.numel() for p in m.parameters()) / 1e6, \"M parameters\")"
   ]
  },
  {
   "cell_type": "code",
   "execution_count": 31,
   "id": "2b71a7df-1608-43ac-946e-dfd971a38b3b",
   "metadata": {},
   "outputs": [],
   "source": [
    "optimizer = torch.optim.AdamW(model.parameters(), lr=learning_rate)"
   ]
  },
  {
   "cell_type": "code",
   "execution_count": 52,
   "id": "607cbde8-b9fd-49b1-9f12-8332ff21215e",
   "metadata": {},
   "outputs": [
    {
     "name": "stdout",
     "output_type": "stream",
     "text": [
      "step 0: train loss 0.6973, val loss 0.6989\n",
      "step 500: train loss 0.6300, val loss 0.6339\n",
      "step 1000: train loss 0.5942, val loss 0.5969\n",
      "step 1500: train loss 0.5553, val loss 0.5543\n",
      "step 2000: train loss 0.5300, val loss 0.5278\n",
      "step 2500: train loss 0.5105, val loss 0.5097\n",
      "step 3000: train loss 0.4963, val loss 0.4957\n",
      "step 3500: train loss 0.4832, val loss 0.4832\n",
      "step 4000: train loss 0.4718, val loss 0.4767\n",
      "step 4500: train loss 0.4673, val loss 0.4695\n",
      "step 4999: train loss 0.4584, val loss 0.4597\n"
     ]
    }
   ],
   "source": [
    "for iter in range(max_iters):\n",
    "\n",
    "    # every once in a while evaluate the loss on train and val sets\n",
    "    if iter % eval_interval == 0 or iter == max_iters - 1:\n",
    "        losses = estimate_loss()\n",
    "        print(\n",
    "            f\"step {iter}: train loss {losses['train']:.4f}, val loss {losses['val']:.4f}\"\n",
    "        )\n",
    "\n",
    "    # sample a batch of data\n",
    "    xb, yb = get_batch(\"train\")\n",
    "\n",
    "    # evaluate the loss\n",
    "    logits, loss = model(xb, yb)\n",
    "    optimizer.zero_grad(set_to_none=True)\n",
    "    loss.backward()\n",
    "    optimizer.step()"
   ]
  },
  {
   "cell_type": "code",
   "execution_count": 75,
   "id": "0da26efe-3187-431c-bbdf-e88fe826b0e7",
   "metadata": {},
   "outputs": [],
   "source": [
    "prompt_moves = \"1 d4 \""
   ]
  },
  {
   "cell_type": "code",
   "execution_count": 76,
   "id": "dafc38ad-5ffa-4a11-979a-f0b5e98c7833",
   "metadata": {},
   "outputs": [
    {
     "name": "stdout",
     "output_type": "stream",
     "text": [
      "1 d4 d5 2 c4 Nc6 3 Nc3 a6 4 Nf3 f6 5 e4 e6 6 e5 Be7 7 Bd3 h5 8 Be2 h4 9 Nxh4 g5 10 h3 Bf8 11 Ng3 c6 12 Bc2 Qd7 13 Qd2 Bd7 14 O-O Ke7 15 f3 e5 16 f4 Nd4 17 Qe2 exd4 18 Bf3 B@b8 19 Nhg2 hxg3 20 Qxh8=Q Bxc4 21 Qxh8 exf4 22 Bf3 Qd2 23 Rxh4 Rh8 24 Nd2 Nxe5 25 dxe5 exf3 26 Nd3 Qe6 0-1                                                                       \n"
     ]
    }
   ],
   "source": [
    "context = torch.tensor(encode(prompt_moves), dtype=torch.long, device=device).reshape(1,-1)\n",
    "res = decode(m.generate(context, max_new_tokens=block_size - len(prompt_moves))[0].tolist())\n",
    "print(res)"
   ]
  },
  {
   "cell_type": "code",
   "execution_count": 77,
   "id": "00ebb7ca-1f67-43d4-b95e-51620842bb9c",
   "metadata": {},
   "outputs": [
    {
     "data": {
      "text/plain": [
       "True"
      ]
     },
     "execution_count": 77,
     "metadata": {},
     "output_type": "execute_result"
    }
   ],
   "source": [
    "prompt_moves in moves_str"
   ]
  },
  {
   "cell_type": "code",
   "execution_count": 78,
   "id": "2476752b-149c-4aa8-b6d9-a143c8c2c484",
   "metadata": {},
   "outputs": [],
   "source": [
    "for i in range(len(res)):\n",
    "    if res[:i] not in moves_str:\n",
    "        break"
   ]
  },
  {
   "cell_type": "code",
   "execution_count": 79,
   "id": "57325581-c8dc-4e78-9525-55ecb4d770ea",
   "metadata": {},
   "outputs": [
    {
     "data": {
      "text/plain": [
       "29"
      ]
     },
     "execution_count": 79,
     "metadata": {},
     "output_type": "execute_result"
    }
   ],
   "source": [
    "i"
   ]
  },
  {
   "cell_type": "code",
   "execution_count": 88,
   "id": "1377e6d0-6395-48d8-aaac-f27e62c23f47",
   "metadata": {},
   "outputs": [
    {
     "data": {
      "text/plain": [
       "'1 d4 d5 2 c4 Nc6 3 Nc3 a6 4 Nf3 f6 5 e4 e6 6 e5 Be7 7 Bd3 h5 8 Be2 h4 9 Nxh4 g5 10 h3 Bf8 11 Ng3 c6 12 Bc2 Qd7 13 Qd2 Bd7 14 O-O Ke7 15 f3 e5 16 f4 Nd4 17 Qe2 exd4 18 Bf3 B@b8 19 Nhg2 hxg3 20 Qxh8=Q Bxc4 21 Qxh8 exf4 22 Bf3 Qd2 23 Rxh4 Rh8 24 Nd2 Nxe5 25 dxe5 exf3 26 Nd3 Qe6 0-1                                                                       '"
      ]
     },
     "execution_count": 88,
     "metadata": {},
     "output_type": "execute_result"
    }
   ],
   "source": [
    "res"
   ]
  },
  {
   "cell_type": "code",
   "execution_count": null,
   "id": "b99ab717-7317-4872-9dee-d9fdb8f8cfc9",
   "metadata": {},
   "outputs": [],
   "source": []
  }
 ],
 "metadata": {
  "kernelspec": {
   "display_name": "Python 3 (ipykernel)",
   "language": "python",
   "name": "python3"
  },
  "language_info": {
   "codemirror_mode": {
    "name": "ipython",
    "version": 3
   },
   "file_extension": ".py",
   "mimetype": "text/x-python",
   "name": "python",
   "nbconvert_exporter": "python",
   "pygments_lexer": "ipython3",
   "version": "3.10.12"
  }
 },
 "nbformat": 4,
 "nbformat_minor": 5
}
